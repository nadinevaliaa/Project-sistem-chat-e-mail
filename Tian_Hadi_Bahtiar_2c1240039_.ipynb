{
  "nbformat": 4,
  "nbformat_minor": 0,
  "metadata": {
    "colab": {
      "provenance": [],
      "authorship_tag": "ABX9TyNmXb1fkvEfRtd5ukwEQLhZ",
      "include_colab_link": true
    },
    "kernelspec": {
      "name": "python3",
      "display_name": "Python 3"
    },
    "language_info": {
      "name": "python"
    }
  },
  "cells": [
    {
      "cell_type": "markdown",
      "metadata": {
        "id": "view-in-github",
        "colab_type": "text"
      },
      "source": [
        "<a href=\"https://colab.research.google.com/github/nadinevaliaa/Project-sistem-chat-e-mail/blob/main/Tian_Hadi_Bahtiar_2c1240039_.ipynb\" target=\"_parent\"><img src=\"https://colab.research.google.com/assets/colab-badge.svg\" alt=\"Open In Colab\"/></a>"
      ]
    },
    {
      "cell_type": "code",
      "execution_count": 6,
      "metadata": {
        "colab": {
          "base_uri": "https://localhost:8080/"
        },
        "id": "sGBzscfiB4RX",
        "outputId": "eb37cdc9-de05-460d-c9da-85e1be81e8dc"
      },
      "outputs": [
        {
          "output_type": "stream",
          "name": "stdout",
          "text": [
            "delapan Lebih Besar Dari Angka Tujuh\n"
          ]
        }
      ],
      "source": [
        "#Kondisi if adalah kondisi yang akan dieksekusi oleh program jika bernilai benar atau TRUE\n",
        "\n",
        "nilai = 8\n",
        "\n",
        "#jika kondisi benar/TRUE maka program akan mengeksekusi perintah dibawahnya\n",
        "if(nilai > 7):\n",
        "    print(\"delapan Lebih Besar Dari Angka Tujuh\") # Kondisi Benar, Dieksekusi\n",
        "\n",
        "#jika kondisi salah/FALSE maka program tidak akan mengeksekusi perintah dibawahnya\n",
        "if(nilai > 10):\n",
        "    print(\"delaspan Lebih Besar Dari Angka Sepuluh\") # Kondisi Salah, Maka tidak tereksekusi"
      ]
    },
    {
      "cell_type": "code",
      "source": [
        "grade = 100\n",
        "\n",
        "if grade == 100:\n",
        "    print(\"perfect\")\n",
        "\n",
        "if grade == 90:\n",
        "    print(\"ok\")\n",
        "    print(\"keep working hard!\")"
      ],
      "metadata": {
        "colab": {
          "base_uri": "https://localhost:8080/"
        },
        "id": "k-TxkSLNCIDf",
        "outputId": "7e388503-a631-4389-ae13-00027dc54d2a"
      },
      "execution_count": 7,
      "outputs": [
        {
          "output_type": "stream",
          "name": "stdout",
          "text": [
            "perfect\n"
          ]
        }
      ]
    },
    {
      "cell_type": "code",
      "source": [
        "grade = float(input(\"Masukkan Nilai Anda: \"))\n",
        "\n",
        "if grade == 100:\n",
        "    print(\"perfect\")\n",
        "\n",
        "if grade == 90:\n",
        "    print(\"ok\")\n",
        "    print(\"keep working hard!\")"
      ],
      "metadata": {
        "colab": {
          "base_uri": "https://localhost:8080/"
        },
        "id": "Bzr5uNXpCtAg",
        "outputId": "7d769bca-79f2-4861-d69f-6742156f0c9b"
      },
      "execution_count": 8,
      "outputs": [
        {
          "output_type": "stream",
          "name": "stdout",
          "text": [
            "Masukkan Nilai Anda: 90\n",
            "ok\n",
            "keep working hard!\n"
          ]
        }
      ]
    },
    {
      "cell_type": "code",
      "source": [
        "grade = int(input(\"Masukkan Nilai Anda: \"))\n",
        "\n",
        "if grade == 100:\n",
        "    print(\"perfect\")\n",
        "\n",
        "if grade == 90:\n",
        "    print(\"ok\")\n",
        "    print(\"keep working hard!\")"
      ],
      "metadata": {
        "colab": {
          "base_uri": "https://localhost:8080/"
        },
        "id": "FOCrt57NDZXv",
        "outputId": "01f08ad0-f87a-4865-df3a-4b88040fd3fa"
      },
      "execution_count": 9,
      "outputs": [
        {
          "output_type": "stream",
          "name": "stdout",
          "text": [
            "Masukkan Nilai Anda: 90\n",
            "ok\n",
            "keep working hard!\n"
          ]
        }
      ]
    },
    {
      "cell_type": "code",
      "source": [
        "grade = float(input(\"Masukkan Nilai Anda: \"))\n",
        "\n",
        "if grade == 100:\n",
        "    print(\"perfect\")\n",
        "\n",
        "if grade == 90:\n",
        "    print(\"ok\")\n",
        "    print(\"keep working hard!\")"
      ],
      "metadata": {
        "colab": {
          "base_uri": "https://localhost:8080/"
        },
        "id": "DzH3fY46D4iY",
        "outputId": "bc8129ff-57ef-498e-d329-a1e4d626d962"
      },
      "execution_count": 10,
      "outputs": [
        {
          "output_type": "stream",
          "name": "stdout",
          "text": [
            "Masukkan Nilai Anda: 100\n",
            "perfect\n"
          ]
        }
      ]
    },
    {
      "cell_type": "code",
      "source": [
        "# Kondisi if else adalah jika kondisi bernilai TRUE maka akan dieksekusi pada if,\n",
        "# tetapi jika bernilai FALSE maka akan dieksekusi kode pada else\n",
        "\n",
        "nilai = 3\n",
        "# Jika pernyataan pada if bernilai TRUE maka if akan dieksekusi,\n",
        "# tetapi jika FALSE kode pada else yang akan dieksekusi.\n",
        "if(nilai > 7):\n",
        "    print(\"Selamat Anda Lulus\")\n",
        "else:\n",
        "    print(\"Maaf Anda Tidak Lulus\")"
      ],
      "metadata": {
        "colab": {
          "base_uri": "https://localhost:8080/"
        },
        "id": "T5hp3oEtD_EP",
        "outputId": "68151924-5728-4a7b-b92b-20e9552ac6db"
      },
      "execution_count": 11,
      "outputs": [
        {
          "output_type": "stream",
          "name": "stdout",
          "text": [
            "Maaf Anda Tidak Lulus\n"
          ]
        }
      ]
    },
    {
      "cell_type": "code",
      "source": [
        "# Kondisi if else adalah jika kondisi bernilai TRUE maka akan dieksekusi pada if,\n",
        "# tetapi jika bernilai FALSE maka akan dieksekusi kode pada else\n",
        "\n",
        "nilai = 8\n",
        "# Jika pernyataan pada if bernilai TRUE maka if akan dieksekusi,\n",
        "# tetapi jika FALSE kode pada else yang akan dieksekusi.\n",
        "if(nilai > 7):\n",
        "    print(\"Selamat Anda Lulus\")\n",
        "else:\n",
        "    print(\"Maaf Anda Tidak Lulus\")"
      ],
      "metadata": {
        "colab": {
          "base_uri": "https://localhost:8080/"
        },
        "id": "jAF-pZV6ECf4",
        "outputId": "a50aaabb-ea42-4e19-9195-f7840b9adc54"
      },
      "execution_count": 12,
      "outputs": [
        {
          "output_type": "stream",
          "name": "stdout",
          "text": [
            "Selamat Anda Lulus\n"
          ]
        }
      ]
    },
    {
      "cell_type": "code",
      "source": [
        "str_input = input('Enter your grade: ')\n",
        "grade = int(str_input)\n",
        "\n",
        "if grade == 100:\n",
        "    print(\"perfect\")\n",
        "else:\n",
        "    print(\"keep it up\")"
      ],
      "metadata": {
        "colab": {
          "base_uri": "https://localhost:8080/"
        },
        "id": "RVMJQz_gEKRX",
        "outputId": "0c16c76d-76b7-47b7-8e72-514eda2b6f60"
      },
      "execution_count": 13,
      "outputs": [
        {
          "output_type": "stream",
          "name": "stdout",
          "text": [
            "Enter your grade: 95\n",
            "keep it up\n"
          ]
        }
      ]
    },
    {
      "cell_type": "code",
      "source": [
        "# Kondisi if else adalah jika kondisi bernilai TRUE maka akan dieksekusi pada if,\n",
        "# tetapi jika bernilai FALSE maka akan dieksekusi kode pada else\n",
        "\n",
        "nilai = 3\n",
        "# Jika pernyataan pada if bernilai TRUE maka if akan dieksekusi,\n",
        "# tetapi jika FALSE kode pada else yang akan dieksekusi.\n",
        "if(nilai > 7):\n",
        "    print(\"Selamat Anda Lulus\")\n",
        "else:\n",
        "    print(\"Maaf Anda Tidak Lulus\")# Kondisi if else adalah jika kondisi bernilai TRUE maka akan dieksekusi pada if,\n",
        "# tetapi jika bernilai FALSE maka akan dieksekusi kode pada else"
      ],
      "metadata": {
        "colab": {
          "base_uri": "https://localhost:8080/"
        },
        "id": "vsHOcozyETOv",
        "outputId": "7ce18ae9-8eeb-4572-b40a-17d273af02a6"
      },
      "execution_count": 14,
      "outputs": [
        {
          "output_type": "stream",
          "name": "stdout",
          "text": [
            "Maaf Anda Tidak Lulus\n"
          ]
        }
      ]
    },
    {
      "cell_type": "code",
      "source": [
        "#Contoh penggunaan kondisi elif\n",
        "\n",
        "hari_ini = \"Minggu\"\n",
        "\n",
        "if(hari_ini == \"Senin\"):\n",
        "    print(\"Saya akan kuliah\")\n",
        "elif(hari_ini == \"Selasa\"):\n",
        "    print(\"Saya akan kuliah\")\n",
        "elif(hari_ini == \"Rabu\"):\n",
        "    print(\"Saya akan kuliah\")\n",
        "elif(hari_ini == \"Kamis\"):\n",
        "    print(\"Saya akan kuliah\")\n",
        "elif(hari_ini == \"Jumat\"):\n",
        "    print(\"Saya akan kuliah\")\n",
        "elif(hari_ini == \"Sabtu\"):\n",
        "    print(\"Saya akan kuliah\")\n",
        "elif(hari_ini == \"Minggu\"):\n",
        "    print(\"Saya akan libur\")"
      ],
      "metadata": {
        "colab": {
          "base_uri": "https://localhost:8080/"
        },
        "id": "mYCopBZMEYmR",
        "outputId": "2ccef14b-6fec-458c-c26c-7c6d667654ba"
      },
      "execution_count": 15,
      "outputs": [
        {
          "output_type": "stream",
          "name": "stdout",
          "text": [
            "Saya akan libur\n"
          ]
        }
      ]
    },
    {
      "cell_type": "code",
      "source": [
        "#Contoh penggunaan kondisi elif\n",
        "\n",
        "hari_ini = input(\"Masukkan hari(gunakan huruf kecil): \")\n",
        "\n",
        "if(hari_ini == \"senin\"):\n",
        "    print(\"Saya akan kuliah\")\n",
        "elif(hari_ini == \"selasa\"):\n",
        "    print(\"Saya akan kuliah\")\n",
        "elif(hari_ini == \"rabu\"):\n",
        "    print(\"Saya akan kuliah\")\n",
        "elif(hari_ini == \"kamis\"):\n",
        "    print(\"Saya akan kuliah\")\n",
        "elif(hari_ini == \"jumat\"):\n",
        "    print(\"Saya akan kuliah\")\n",
        "elif(hari_ini == \"sabtu\"):\n",
        "    print(\"Saya akan kuliah\")\n",
        "elif(hari_ini == \"minggu\"):\n",
        "    print(\"Saya akan libur\")"
      ],
      "metadata": {
        "colab": {
          "base_uri": "https://localhost:8080/"
        },
        "id": "7nWP1Y0qEcko",
        "outputId": "9b251af2-2094-4978-d88d-f92479ef8520"
      },
      "execution_count": 16,
      "outputs": [
        {
          "output_type": "stream",
          "name": "stdout",
          "text": [
            "Masukkan hari(gunakan huruf kecil): senin\n",
            "Saya akan kuliah\n"
          ]
        }
      ]
    },
    {
      "cell_type": "code",
      "source": [
        "str_input = input('Enter your grade: ')\n",
        "grade = int(str_input)\n",
        "\n",
        "if grade == 100:\n",
        "    print(\"perfect\")\n",
        "elif grade >= 85:\n",
        "    print(\"awesome\")\n",
        "elif grade >= 65:\n",
        "    print(\"passed the exam\")"
      ],
      "metadata": {
        "colab": {
          "base_uri": "https://localhost:8080/"
        },
        "id": "yg9q1uDsEkk_",
        "outputId": "f716ae74-9271-4edb-b6cb-1a690c425e8c"
      },
      "execution_count": 17,
      "outputs": [
        {
          "output_type": "stream",
          "name": "stdout",
          "text": [
            "Enter your grade: 100\n",
            "perfect\n"
          ]
        }
      ]
    },
    {
      "cell_type": "code",
      "source": [
        "str_input = input('Enter your grade: ')\n",
        "grade = int(str_input)\n",
        "\n",
        "if grade == 100:\n",
        "    print(\"perfect\")\n",
        "elif grade >= 85:\n",
        "    print(\"awesome\")\n",
        "elif grade >= 65:\n",
        "    print(\"passed the exam\")\n",
        "else:\n",
        "    print(\"below the passing grade\")"
      ],
      "metadata": {
        "colab": {
          "base_uri": "https://localhost:8080/"
        },
        "id": "PEQ61MhGErM3",
        "outputId": "556ba73c-c49b-499e-f845-f59f91870657"
      },
      "execution_count": 18,
      "outputs": [
        {
          "output_type": "stream",
          "name": "stdout",
          "text": [
            "Enter your grade: 50\n",
            "below the passing grade\n"
          ]
        }
      ]
    },
    {
      "cell_type": "code",
      "source": [
        "str_input = input('Enter your grade: ')\n",
        "grade = int(str_input)\n",
        "\n",
        "if grade == 100:\n",
        "    print(\"perfect\")\n",
        "\n",
        "elif grade >= 85:\n",
        "    print(\"awesome\")\n",
        "\n",
        "elif grade >= 65:\n",
        "    print(\"passed the exam\")\n",
        "\n",
        "    if grade <= 70:\n",
        "        print(\"but you need to improve it!\")\n",
        "    else:\n",
        "        print(\"with ok grade\")\n",
        "\n",
        "else:\n",
        "    print(\"below the passing grade\")"
      ],
      "metadata": {
        "colab": {
          "base_uri": "https://localhost:8080/"
        },
        "id": "SAytFW41Ewa_",
        "outputId": "290c2948-f925-462e-85aa-fab466914a0d"
      },
      "execution_count": 19,
      "outputs": [
        {
          "output_type": "stream",
          "name": "stdout",
          "text": [
            "Enter your grade: 74\n",
            "passed the exam\n",
            "with ok grade\n"
          ]
        }
      ]
    },
    {
      "cell_type": "code",
      "source": [
        "str_input = input('Enter your grade: ')\n",
        "grade = int(str_input)\n",
        "\n",
        "if grade == 100:\n",
        "    print(\"perfect\")\n",
        "\n",
        "elif grade >= 85:\n",
        "    print(\"awesome\")\n",
        "\n",
        "elif grade >= 65:\n",
        "    print(\"passed the exam\")\n",
        "\n",
        "    if grade <= 70:\n",
        "        print(\"but you need to improve it!\")\n",
        "    else:\n",
        "        print(\"with ok grade\")\n",
        "\n",
        "else:\n",
        "    print(\"below the passing grade\")"
      ],
      "metadata": {
        "colab": {
          "base_uri": "https://localhost:8080/"
        },
        "id": "2sWzp5PGE3RX",
        "outputId": "01a30b03-8b1f-48e0-ca35-14f49a18be46"
      },
      "execution_count": 20,
      "outputs": [
        {
          "output_type": "stream",
          "name": "stdout",
          "text": [
            "Enter your grade: 70\n",
            "passed the exam\n",
            "but you need to improve it!\n"
          ]
        }
      ]
    },
    {
      "cell_type": "code",
      "source": [
        "grade = int(input('Enter your current grade: '))\n",
        "prev_grade = int(input('Enter your previous grade: '))\n",
        "\n",
        "if grade >= 90 and prev_grade >= 65:\n",
        "    print(\"awesome\")\n",
        "if grade >= 90 and prev_grade < 65:\n",
        "    print(\"awesome. you definitely working hard, right?\")\n",
        "elif grade >= 65:\n",
        "    print(\"passed the exam\")\n",
        "else:\n",
        "    print(\"below the passing grade\")\n",
        "\n",
        "if (grade >= 65 and not prev_grade >= 65) or (not grade >= 65 and prev_grade >= 65):\n",
        "    print(\"at least you passed one exam. good job!\")"
      ],
      "metadata": {
        "colab": {
          "base_uri": "https://localhost:8080/"
        },
        "id": "DCeXZal3E7iI",
        "outputId": "16960fe0-2503-437f-c37e-61743c44bf9a"
      },
      "execution_count": 21,
      "outputs": [
        {
          "output_type": "stream",
          "name": "stdout",
          "text": [
            "Enter your current grade: 90\n",
            "Enter your previous grade: 80\n",
            "awesome\n",
            "passed the exam\n"
          ]
        }
      ]
    },
    {
      "cell_type": "code",
      "source": [
        "grade = int(input('Enter your current grade: '))\n",
        "prev_grade = int(input('Enter your previous grade: '))\n",
        "\n",
        "if grade >= 90 and prev_grade >= 65:\n",
        "    print(\"awesome\")\n",
        "if grade >= 90 and prev_grade < 65:\n",
        "    print(\"awesome. you definitely working hard, right?\")\n",
        "elif grade >= 65:\n",
        "    print(\"passed the exam\")\n",
        "else:\n",
        "    print(\"below the passing grade\")\n",
        "\n",
        "if (grade >= 65 and not prev_grade >= 65) or (not grade >= 65 and prev_grade >= 65):\n",
        "    print(\"at least you passed one exam. good job!\")"
      ],
      "metadata": {
        "colab": {
          "base_uri": "https://localhost:8080/"
        },
        "id": "tTjWhLweFDJP",
        "outputId": "7fc96852-76b4-4365-aed4-88fc5cd5d7b9"
      },
      "execution_count": 22,
      "outputs": [
        {
          "output_type": "stream",
          "name": "stdout",
          "text": [
            "Enter your current grade: 90\n",
            "Enter your previous grade: 60\n",
            "awesome. you definitely working hard, right?\n",
            "at least you passed one exam. good job!\n"
          ]
        }
      ]
    },
    {
      "cell_type": "code",
      "source": [
        "grade = int(input('Enter your current grade: '))\n",
        "prev_grade = int(input('Enter your previous grade: '))\n",
        "\n",
        "if grade >= 90 and prev_grade >= 65:\n",
        "    print(\"awesome\")\n",
        "if grade >= 90 and prev_grade < 65:\n",
        "    print(\"awesome. you definitely working hard, right?\")\n",
        "elif grade >= 65:\n",
        "    print(\"passed the exam\")\n",
        "else:\n",
        "    print(\"below the passing grade\")\n",
        "\n",
        "if (grade >= 65 and not prev_grade >= 65) or (not grade >= 65 and prev_grade >= 65):\n",
        "    print(\"at least you passed one exam. good job!\")"
      ],
      "metadata": {
        "colab": {
          "base_uri": "https://localhost:8080/"
        },
        "id": "bElQpWhUFJD3",
        "outputId": "2b7e12bf-3e36-4a52-a508-c6960e3b0fc5"
      },
      "execution_count": 23,
      "outputs": [
        {
          "output_type": "stream",
          "name": "stdout",
          "text": [
            "Enter your current grade: 50\n",
            "Enter your previous grade: 60\n",
            "below the passing grade\n"
          ]
        }
      ]
    },
    {
      "cell_type": "code",
      "source": [
        "# Meminta input dari pengguna\n",
        "bilangan = int(input(\"Masukkan sebuah bilangan: \"))\n",
        "\n",
        "# Memeriksa apakah bilangan habis dibagi 3\n",
        "if bilangan % 3 == 0:\n",
        "    print(\"Bilangan habis dibagi 3.\")\n",
        "else:\n",
        "    print(\"Bilangan  tidak habis dibagi 3.\")"
      ],
      "metadata": {
        "colab": {
          "base_uri": "https://localhost:8080/"
        },
        "id": "7RcQvh4jL_IC",
        "outputId": "b19affa8-7a75-449e-e21e-8e822e871d5a"
      },
      "execution_count": 28,
      "outputs": [
        {
          "output_type": "stream",
          "name": "stdout",
          "text": [
            "Masukkan sebuah bilangan: 12\n",
            "Bilangan habis dibagi 3.\n"
          ]
        }
      ]
    },
    {
      "cell_type": "code",
      "source": [
        "# Meminta input dari pengguna untuk nama\n",
        "nama = input(\"Masukkan nama Anda: \")\n",
        "\n",
        "# Meminta input untuk jenis kelamin\n",
        "jenis_kelamin = input(\"Masukkan jenis kelamin (pria/wanita): \")\n",
        "\n",
        "# Mengecek jenis kelamin dan mencetak pesan yang sesuai\n",
        "if jenis_kelamin == \"pria\":\n",
        "    print(\"Halo bro, \", nama)\n",
        "elif jenis_kelamin == \"wanita\":\n",
        "    print(\"Halo sis, \", nama)\n",
        "else:\n",
        "    print(\" Harap masukkan 'pria' atau 'wanita'.\")"
      ],
      "metadata": {
        "colab": {
          "base_uri": "https://localhost:8080/"
        },
        "id": "ARLiGn_mOHPj",
        "outputId": "57a8126f-2358-4248-b010-8e67d69c8b1b"
      },
      "execution_count": 38,
      "outputs": [
        {
          "output_type": "stream",
          "name": "stdout",
          "text": [
            "Masukkan nama Anda: Tian Hadi Bahtiar\n",
            "Masukkan jenis kelamin (pria/wanita): pria\n",
            "Halo bro,  Tian Hadi Bahtiar\n"
          ]
        }
      ]
    },
    {
      "cell_type": "code",
      "source": [
        "# Meminta input usia dari pengguna\n",
        "usia = int(input(\"Masukkan usia Anda: \"))\n",
        "\n",
        "# Menggunakan kondisi if, elif, else untuk menentukan kategori usia\n",
        "if usia < 20:\n",
        "    print(\"Anda masih anak-anak.\")\n",
        "elif usia >= 20 and usia < 25:\n",
        "    print(\"Anda remaja.\")\n",
        "elif usia >= 25 and usia < 50:\n",
        "    print(\"Anda dewasa.\")\n",
        "else:\n",
        "    print(\"Anda lansia.\")"
      ],
      "metadata": {
        "colab": {
          "base_uri": "https://localhost:8080/"
        },
        "id": "vSi4Ss7IQ0gO",
        "outputId": "0feca203-16f0-4e29-ec8b-47445e8a69a0"
      },
      "execution_count": 30,
      "outputs": [
        {
          "output_type": "stream",
          "name": "stdout",
          "text": [
            "Masukkan usia Anda: 20\n",
            "Anda remaja.\n"
          ]
        }
      ]
    }
  ]
}